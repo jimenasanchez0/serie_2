{
  "nbformat": 4,
  "nbformat_minor": 0,
  "metadata": {
    "colab": {
      "provenance": [],
      "authorship_tag": "ABX9TyOUAwiHSFD4Ny1dhgMxt7Dd",
      "include_colab_link": true
    },
    "kernelspec": {
      "name": "python3",
      "display_name": "Python 3"
    },
    "language_info": {
      "name": "python"
    }
  },
  "cells": [
    {
      "cell_type": "markdown",
      "metadata": {
        "id": "view-in-github",
        "colab_type": "text"
      },
      "source": [
        "<a href=\"https://colab.research.google.com/github/jimenasanchez0/serie_2/blob/main/serie2_parte2.ipynb\" target=\"_parent\"><img src=\"https://colab.research.google.com/assets/colab-badge.svg\" alt=\"Open In Colab\"/></a>"
      ]
    },
    {
      "cell_type": "markdown",
      "source": [
        "Jimena Monzerrat Sanchez Palos\n",
        "\n",
        "LCD 3er semestre\n",
        "\n",
        "Serie2 parte ll"
      ],
      "metadata": {
        "id": "EqFG7hZPzlzQ"
      }
    },
    {
      "cell_type": "markdown",
      "source": [
        "**Ejercicio 1**\n",
        "\n",
        "Un pescador está sobre un océano rectangular. El valor del pez en el punto (i,j) está dado por un\n",
        "arreglo A de dimensión 2 n x m. Diseña un algoritmo que calcule el máximo valor de pescado que\n",
        "un pescador puede atrapar en un camino desde la esquina superior izquierda a la esquina inferior\n",
        "derecha."
      ],
      "metadata": {
        "id": "Kc4qDQfDzuCs"
      }
    },
    {
      "cell_type": "code",
      "source": [
        "def max_valor_pescado(A):\n",
        "    n = len(A) // 2\n",
        "    m = len(A[0])\n",
        "\n",
        "    # Creamos una matriz para almacenar los resultados intermedios\n",
        "    dp = [[0] * (m + 1) for _ in range(n + 1)]\n",
        "\n",
        "    # Llenamos la matriz dp utilizando programación dinámica\n",
        "    for i in range(1, n + 1):\n",
        "        for j in range(1, m + 1):\n",
        "            dp[i][j] = A[i - 1][j - 1] + max(dp[i - 1][j], dp[i][j - 1])\n",
        "\n",
        "    # El resultado final estará en la esquina inferior derecha de la matriz dp\n",
        "    return dp[n][m]\n",
        "\n",
        "# Ejemplo de uso\n",
        "A = [\n",
        "    [1, 2, 5, 9],\n",
        "    [3, 4, 6, 8],\n",
        "    [7, 1, 2, 3],\n",
        "    [2, 3, 4, 5]\n",
        "]\n",
        "\n",
        "resultado = max_valor_pescado(A)\n",
        "print(\"El máximo valor de pescado que el pescador puede atrapar es:\", resultado)"
      ],
      "metadata": {
        "id": "o6aBlNe-0JDC"
      },
      "execution_count": null,
      "outputs": []
    },
    {
      "cell_type": "markdown",
      "source": [
        "Se usa inicialmente un arreglo nc de tamaño de la fila, en donde de forma inicial, se calculan las sumatorias de tomar el pescado de esa fila y que además asumimos que las posiciones i y j empiezan en la posición 0 y que llegan a n-1 filas y m-1 columnas respectivamente.\n",
        "\n",
        "Recorriendo las filas desde la fila que empieza en la posición 1 hasta la fila n -1 hacer\n",
        "Tomar el valor de A[i][j]\n",
        " Si está parado en la columna 0 el valor de nc[j] se le suma el valor A[i][j]\n",
        " De lo contrario revisamos que es mayor, si al valor A[i][j] le sumamos nc[j] o nc[j-1], cualquiera que sea el máximo se le asigna ese valor a nc[j]\n",
        "El valor máximo se obtiene del último valor de nc."
      ],
      "metadata": {
        "id": "OuslsyYMoHhW"
      }
    },
    {
      "cell_type": "markdown",
      "source": [
        "**Ejercicio 5**\n",
        "\n",
        "Mientras caminas por la playa encuentras un baúl de tesoros. El baúl contiene n tesoros con pesos\n",
        "w1, ..., wn y valores v1, ..., vn. Desafortunadamente sólo tienes una mochila que solo tiene\n",
        "capacidad de carga M. Afortunadamente los tesoros se pueden romper si es necesario. Por\n",
        "ejemplo, la tercera parte de un tesoro i tiene peso wi/3 y valor vi/3.\n",
        "a. Describe un algoritmo voraz de tiempo O(n log n) que resuelve este problema.\n",
        "b. Prueba que tu algoritmo obtiene la solución correcta.\n",
        "c. Mejora el tiempo de ejecución de tu algoritmo a O(n)."
      ],
      "metadata": {
        "id": "BXcmv23Y0Nk1"
      }
    },
    {
      "cell_type": "code",
      "source": [
        "def mochila_fraccionaria(n, M, pesos, valores):\n",
        "    # Calcula el valor por unidad de peso para cada tesoro\n",
        "    ratios = [(valores[i] / pesos[i], i) for i in range(n)]\n",
        "\n",
        "    # Ordena los tesoros en orden descendente según su valor por unidad de peso\n",
        "    ratios.sort(reverse=True)\n",
        "\n",
        "    # Inicializa la mochila\n",
        "    capacidad_actual = M\n",
        "    valor_total = 0\n",
        "    mochila = [0] * n\n",
        "\n",
        "    # Llena la mochila con tesoros\n",
        "    for ratio, i in ratios:\n",
        "        cantidad = min(capacidad_actual, pesos[i])\n",
        "        valor_total += cantidad * ratio\n",
        "        mochila[i] = cantidad\n",
        "        capacidad_actual -= cantidad\n",
        "\n",
        "    return valor_total, mochila\n",
        "\n",
        "# Ejemplo de uso\n",
        "n = 3\n",
        "M = 50\n",
        "pesos = [10, 20, 30]\n",
        "valores = [60, 100, 120]\n",
        "\n",
        "valor, mochila = mochila_fraccionaria(n, M, pesos, valores)\n",
        "\n",
        "print(\"Valor máximo obtenido:\", valor)\n",
        "print(\"Distribución de la mochila:\", mochila)"
      ],
      "metadata": {
        "id": "GL2X_cP80ZTZ"
      },
      "execution_count": null,
      "outputs": []
    },
    {
      "cell_type": "markdown",
      "source": [
        "1. Dividir los tesoros por unidad de peso (ejemplo: si la mochila tiene una capacidad de 4U la unidad seria 1U y cada tesoro tendría un cierto número de unidades), esto toma tiempo O(n).\n",
        "2. Seleccionar el tesoro que tenga más valor por unidad de peso.\n",
        "3. Agregar el elemento seleccionado si cabe en la mochila, si cabe repetir 2, si no se termina el algoritmo, seleccionar el que dé mayor valor toma O(log n).\n",
        "\n",
        "Por dividir los tesoros e ir seleccionando el que da más valor por unidad, el tiempo total de la ejecución del algoritmo es O(n log n).\n"
      ],
      "metadata": {
        "id": "WZkw9XL-oTUk"
      }
    },
    {
      "cell_type": "markdown",
      "source": [
        "Ejercicio 5 **MEJORADO**"
      ],
      "metadata": {
        "id": "rQpH7F060eHO"
      }
    },
    {
      "cell_type": "code",
      "source": [
        "def mochila_fraccionaria_optimizada(n, M, pesos, valores):\n",
        "    # Inicializa la mochila\n",
        "    capacidad_actual = M\n",
        "    valor_total = 0\n",
        "    mochila = [0] * n\n",
        "\n",
        "    # Itera sobre los tesoros y los añade a la mochila según su valor por unidad de peso\n",
        "    for i in range(n):\n",
        "        cantidad = min(capacidad_actual, pesos[i])\n",
        "        valor_total += cantidad * (valores[i] / pesos[i])\n",
        "        mochila[i] = cantidad\n",
        "        capacidad_actual -= cantidad\n",
        "\n",
        "    return valor_total, mochila\n",
        "\n",
        "# Ejemplo de uso\n",
        "n = 3\n",
        "M = 50\n",
        "pesos = [10, 20, 30]\n",
        "valores = [60, 100, 120]\n",
        "\n",
        "valor, mochila = mochila_fraccionaria_optimizada(n, M, pesos, valores)\n",
        "\n",
        "print(\"Valor máximo obtenido:\", valor)\n",
        "print(\"Distribución de la mochila:\", mochila)"
      ],
      "metadata": {
        "id": "E2ItPqPc0mKn"
      },
      "execution_count": null,
      "outputs": []
    },
    {
      "cell_type": "markdown",
      "source": [
        "Para la mejora se puede utilizar la selección del k-ésimo elemento que utiliza como subrutina mediana de medianas con la cual se obtiene el elemento que esta en medio (o mediana) y a partir de él se pregunta si todos los elementos que están desde ese punto a la izquierda caben en la mochila incluyéndose (los elementos que están del lado derecho no se toman ya que son más grandes que la capacidad de la mochila), si no caben, se vuelve a aplicar la búsqueda del k-ésimo elemento, pero solo considerando la parte izquierda hasta que el elemento que está en la media quepa en la mochila junto con todo los los elementos a la izquierda.\n"
      ],
      "metadata": {
        "id": "NKBOR1O3odOs"
      }
    },
    {
      "cell_type": "markdown",
      "source": [
        "**Ejercicio 8**\n",
        "\n",
        "Un algoritmo glotón (greedy) para regresar el cambio de n unidades usando el mínimo número de\n",
        "monedas es el siguiente: Dar al cliente una moneda de mayor denominación, digamos d. Repite\n",
        "lo anterior para regresar el cambio de n – d unidades.\n",
        "\n",
        "Para cada una de las siguientes denominaciones, determina si el algoritmo greedy antes mencionado\n",
        "minimiza el número de monedas para dar el cambio. Si es así pruébalo, si no lo es muestra un\n",
        "contraejemplo.\n",
        "\n",
        "a) Monedas de Estados Unidos, 50, 25, 20, 5 y 1 centavos.\n",
        "\n",
        "b) Monedas Inglesas antes de la decimalización, 30, 24, 12, 6, 3, 1, 1⁄2 y 1⁄4 peniques.\n",
        "\n",
        "c) Monedas portuguesas, 1, 2.5, 5, 10. 20, 25 y 50 escudos.\n",
        "d) Monedas marcianas, 1, p, p^2, ...p^k, con p > 1 y k <= 0\n",
        "\n",
        "e) Given two spanning trees T an R of graph G = (V,E), show how to find the shortest sequence\n",
        "of spanning trees T0, T1, ... Tk such that T0 = T, Tk = R, and each tree Ti differs from the previous\n",
        "one Ti-1 by an addition of one edge and a deletion of one edge."
      ],
      "metadata": {
        "id": "0rC7ertfjMEZ"
      }
    },
    {
      "cell_type": "code",
      "source": [
        "def cambio_greedy(monedas, cantidad):\n",
        "    monedas.sort(reverse=True)  # Ordenamos las monedas de mayor a menor denominación\n",
        "    cambio = []\n",
        "\n",
        "    for moneda in monedas:\n",
        "        while cantidad >= moneda:\n",
        "            cantidad -= moneda\n",
        "            cambio.append(moneda)\n",
        "\n",
        "    return cambio\n",
        "\n",
        "def prueba_cambio(monedas, cantidad):\n",
        "    cambio_optimo = cambio_greedy(monedas, cantidad)\n",
        "\n",
        "    print(f\"Para dar cambio de {cantidad} unidades con monedas {monedas}:\")\n",
        "    print(f\"Solución del algoritmo glotón: {cambio_optimo}\")\n",
        "    print(f\"Número de monedas: {len(cambio_optimo)}\")\n",
        "\n",
        "# a) Monedas de Estados Unidos\n",
        "monedas_usa = [50, 25, 20, 5, 1]\n",
        "prueba_cambio(monedas_usa, 63)\n",
        "\n",
        "# b) Monedas Inglesas antes de la decimalización\n",
        "monedas_inglesas = [30, 24, 12, 6, 3, 1, 0.5, 0.25]\n",
        "prueba_cambio(monedas_inglesas, 48)\n",
        "\n",
        "# c) Monedas portuguesas\n",
        "monedas_portuguesas = [1, 2.5, 5, 10, 20, 25, 50]\n",
        "prueba_cambio(monedas_portuguesas, 37)\n",
        "\n",
        "# d) Monedas marcianas\n",
        "# Consideremos un ejemplo específico: p=5, k=3\n",
        "monedas_marcianas = [1, 5, 25, 125]\n",
        "prueba_cambio(monedas_marcianas, 18)"
      ],
      "metadata": {
        "id": "iUxegVc3kQzz"
      },
      "execution_count": null,
      "outputs": []
    },
    {
      "cell_type": "markdown",
      "source": [
        "Este código implementa el algoritmo glotón para dar cambio y realiza pruebas para los casos a, b, c y d. Analicemos cada caso:\n",
        "\n",
        "a) Monedas de Estados Unidos: El algoritmo glotón funciona correctamente, ya que las monedas tienen denominaciones que son múltiplos de las monedas de menor valor.\n",
        "\n",
        "b) Monedas Inglesas antes de la decimalización: El algoritmo glotón también funciona correctamente para este caso.\n",
        "\n",
        "c) Monedas portuguesas: El algoritmo glotón no siempre proporciona la solución óptima para este caso, ya que no siempre seleccionará la moneda de 2.5 escudos de manera óptima.\n",
        "\n",
        "d) Monedas marcianas: El algoritmo glotón puede no proporcionar la solución óptima en general, ya que no siempre seleccionará las monedas de manera óptima para cualquier conjunto de monedas marcianas. En el ejemplo específico proporcionado, el algoritmo glotón no da la solución óptima.\n",
        "\n",
        "Es importante tener en cuenta que el algoritmo glotón no siempre garantiza la solución óptima, y su efectividad depende de la naturaleza de las monedas disponibles."
      ],
      "metadata": {
        "id": "9jtnfABqkgT-"
      }
    },
    {
      "cell_type": "markdown",
      "source": [
        "**Ejercicio 9**\n",
        "\n",
        "Dados dos árboles generadores T y R del gráfico G = (V,E), muestre cómo encontrar la secuencia más corta de árboles de expansión T0, T1, ... Tk tales que T0 = T, Tk = R, y cada árbol Ti difiere del anterior Ti-1 añadiendo un borde y eliminando un borde.\n",
        "\n",
        "a. Muestre cubrir el tablero con (n x n)/2 fichas de dominó.\n",
        "\n",
        "b. Retire las esquinas superior izquierda e inferior derecha de B. Demuestre que no puede cubrir la tablero restante con ((n x n)/2) – 1 ficha de dominó.\n",
        "\n",
        "C. Retire un cuadrado negro arbitrario y otro con cuadrado arbitrario de B. Demuestre que el resto del tablero se puede cubrir con ((n x n)/2) – 1 ficha de dominó."
      ],
      "metadata": {
        "id": "HlExdR72lC7N"
      }
    },
    {
      "cell_type": "code",
      "source": [
        "def find_shortest_sequence(T, R):\n",
        "    def symmetric_difference(A, B):\n",
        "        return (A - B) | (B - A)\n",
        "\n",
        "    def add_and_remove_edge(tree, delta):\n",
        "        # Suponemos que delta contiene dos aristas: una para agregar y otra para eliminar\n",
        "        if len(delta) != 2:\n",
        "            raise ValueError(\"Delta debe contener exactamente dos aristas.\")\n",
        "\n",
        "        # Eliminar la arista a quitar\n",
        "        new_tree = tree - {delta[1]}\n",
        "\n",
        "        # Agregar la nueva arista\n",
        "        new_tree.add(delta[0])\n",
        "\n",
        "        return new_tree\n",
        "\n",
        "    sequence = [T]\n",
        "\n",
        "    while sequence[-1] != R:\n",
        "        delta = symmetric_difference(sequence[-1], R)\n",
        "        new_tree = add_and_remove_edge(sequence[-1], delta)\n",
        "        sequence.append(new_tree)\n",
        "\n",
        "    return sequence\n",
        "\n",
        "# Ejemplo de uso\n",
        "T = {(1, 2), (2, 3), (3, 4), (4, 5)}\n",
        "R = {(1, 2), (2, 3), (3, 5), (5, 6)}\n",
        "\n",
        "shortest_sequence = find_shortest_sequence(T, R)\n",
        "for i, tree in enumerate(shortest_sequence):\n",
        "    print(f'T{i}: {tree}')\n"
      ],
      "metadata": {
        "id": "vVLkgEv8lZiR"
      },
      "execution_count": 5,
      "outputs": []
    },
    {
      "cell_type": "code",
      "source": [
        "def cover_board_with_dominos(n):\n",
        "    # Verificar si el tamaño del tablero es par\n",
        "    if n % 2 != 0:\n",
        "        print(\"El tamaño del tablero debe ser par para cubrirlo con dominós.\")\n",
        "        return\n",
        "\n",
        "    # Implementar lógica para cubrir el tablero con dominós\n",
        "    # Puedes representar el tablero como una matriz y asignar dominós a pares de coordenadas\n",
        "    pass\n",
        "\n",
        "# Llamada a la función\n",
        "\n",
        "cover_board_with_dominos(4)  # Ejemplo, reemplazar con el tamaño deseado\n"
      ],
      "metadata": {
        "id": "9kbrNRI7rCtU"
      },
      "execution_count": null,
      "outputs": []
    },
    {
      "cell_type": "code",
      "source": [
        "def cover_remaining_board_after_removal(n):\n",
        "    # Verificar si el tamaño del tablero es par\n",
        "    if n % 2 != 0:\n",
        "        print(\"El tamaño del tablero debe ser par para cubrirlo con dominós después de la eliminación.\")\n",
        "        return\n",
        "\n",
        "    # Implementar lógica para cubrir el tablero después de la eliminación de esquinas\n",
        "    # Puedes representar el tablero como una matriz y asignar dominós a pares de coordenadas\n",
        "    pass\n",
        "\n",
        "# Llamada a la función\n",
        "cover_remaining_board_after_removal(4)  # Ejemplo, reemplazar con el tamaño deseado"
      ],
      "metadata": {
        "id": "xEp3_l1xrFf7"
      },
      "execution_count": null,
      "outputs": []
    },
    {
      "cell_type": "markdown",
      "source": [
        "**Ejercicio 10**\n",
        "\n",
        "Consider an n x n board of checkerboard B of alternating black and white squares. Assume that n\n",
        "es even. We seek to cover that checkerboard with rectangular dominos of size 2 x 1."
      ],
      "metadata": {
        "id": "vc4tUWBCrGh2"
      }
    },
    {
      "cell_type": "code",
      "source": [
        "def cubrir_tablero_damas(n):\n",
        "    # Verificar que n sea par para un tablero de damas estándar\n",
        "    if n % 2 != 0:\n",
        "        raise ValueError(\"n debe ser par para un tablero de damas estándar.\")\n",
        "\n",
        "    # Inicializar el tablero de damas con casillas alternadas 'B' (negro) y 'W' (blanco)\n",
        "    tablero = [['B' if (i + j) % 2 == 0 else 'W' for j in range(n)] for i in range(n)]\n",
        "\n",
        "    # Función para imprimir el tablero\n",
        "    def imprimir_tablero():\n",
        "        for fila in tablero:\n",
        "            print(\" \".join(fila))\n",
        "        print()\n",
        "\n",
        "    # Función para cubrir el tablero con dominós\n",
        "    def cubrir_con_dominos():\n",
        "        for i in range(0, n, 2):\n",
        "            for j in range(0, n, 2):\n",
        "                # Colocar dominós horizontalmente\n",
        "                tablero[i][j] = 'D'\n",
        "                tablero[i][j + 1] = 'D'\n",
        "                # Colocar dominós verticalmente\n",
        "                tablero[i + 1][j] = 'D'\n",
        "                tablero[i + 1][j + 1] = 'D'\n",
        "\n",
        "    # Cubrir el tablero con dominós\n",
        "    cubrir_con_dominos()\n",
        "\n",
        "    # Imprimir el tablero resultante\n",
        "    imprimir_tablero()\n",
        "\n",
        "# Ejemplo de uso con un tablero de 4x4\n",
        "cubrir_tablero_damas(4)"
      ],
      "metadata": {
        "id": "W5ijaTvcrOv8"
      },
      "execution_count": null,
      "outputs": []
    },
    {
      "cell_type": "markdown",
      "source": [
        "El algoritmo para cubrir un tablero de damas   n×n con dominós rectangulares de tamaño 2×1 sigue los siguientes pasos:\n",
        "\n",
        "Inicialización del Tablero:\n",
        "\n",
        "Se crea una matriz n×n que representa el tablero de damas.\n",
        "Se asigna alternativamente 'B' (negro) y 'W' (blanco) a cada casilla, de modo que se obtenga un patrón de damero\n",
        "\n",
        "Cubrir con Dominós:\n",
        "\n",
        "Se itera sobre el tablero en pasos de dos filas y dos columnas.\n",
        "En cada iteración, se colocan dominós horizontal y verticalmente de manera que cubran dos casillas contiguas (una negra y una blanca).\n",
        "Esto se logra asignando 'D' (dominó) a las casillas correspondientes\n",
        "\n",
        "\n",
        "Visualización del Resultado:\n",
        "\n",
        "Se proporciona una función para imprimir el tablero resultante después de cubrirlo con dominós.\n",
        "\n",
        "\n",
        "Ejemplo de Uso:\n",
        "\n",
        "En el ejemplo de uso, se llama a la función cover_checkerboard(4) para cubrir un tablero de damas 4×4 con dominós.\n",
        "\n"
      ],
      "metadata": {
        "id": "L_rMXpUxrRxU"
      }
    },
    {
      "cell_type": "markdown",
      "source": [
        "\n",
        "1.Inicializa un tablero de damas con casillas negras ('B') y blancas ('W') de manera alternada.\n",
        "\n",
        "2.Cubre el tablero con dominós de tamaño 2×1 en un patrón que sigue las reglas de un tablero de damas.\n",
        "\n",
        "3.Imprime el tablero resultante después de cubrirlo con dominós."
      ],
      "metadata": {
        "id": "oa0EpCv8rhyJ"
      }
    },
    {
      "cell_type": "markdown",
      "source": [
        "**Ejercicio 12**\n",
        "\n",
        "El profesor Protón tiene dos hijos los cuales no se llevan nada bien. Los chiquillos se odian tanto\n",
        "que no sólo se niegan a caminar juntos a la escuela, si no que además de niegan a caminar en\n",
        "cualquier acera en la que el otro hermano haya puesto un pie ese día. Los chiquillos no tienen\n",
        "problema conque sus caminos coincidan en algunas esquinas. Afortunadamente, tanto la casa del\n",
        "profesor como la escuela están en una esquina, fuera de eso el profesor no está seguro si será\n",
        "posible meter a los dos hijos en la misma escuela. Muestre cómo modelar el problema de decidir\n",
        "si es posible enviar a los dos hijos a la misma escuela como un problema de flujos."
      ],
      "metadata": {
        "id": "dNmHEVZZrruk"
      }
    },
    {
      "cell_type": "code",
      "source": [
        "pip install networkx"
      ],
      "metadata": {
        "colab": {
          "base_uri": "https://localhost:8080/"
        },
        "id": "Vhuobq2arvVO",
        "outputId": "40eba8bd-837a-41b1-9834-db4dd4cd3c39"
      },
      "execution_count": 6,
      "outputs": [
        {
          "output_type": "stream",
          "name": "stdout",
          "text": [
            "Requirement already satisfied: networkx in /usr/local/lib/python3.10/dist-packages (3.2.1)\n"
          ]
        }
      ]
    },
    {
      "cell_type": "code",
      "source": [
        "import networkx as nx\n",
        "\n",
        "def problema_flujo():\n",
        "    # Crear un grafo dirigido\n",
        "    G = nx.DiGraph()\n",
        "\n",
        "    # Agregar nodos (esquinas)\n",
        "    G.add_node(\"Casa\")\n",
        "    G.add_node(\"Escuela\")\n",
        "\n",
        "    # Agregar arcos (calles) y asignar capacidades\n",
        "    G.add_edge(\"Casa\", \"Esquina1\", capacity=1)\n",
        "    G.add_edge(\"Esquina1\", \"Esquina2\", capacity=2)\n",
        "    G.add_edge(\"Esquina2\", \"Escuela\", capacity=2)\n",
        "\n",
        "    # Aplicar el algoritmo de flujo máximo\n",
        "    flujo_maximo = nx.maximum_flow(G, \"Casa\", \"Escuela\")[0]\n",
        "\n",
        "    # Verificar si es posible enviar a ambos hijos a la misma escuela\n",
        "    if flujo_maximo >= 2:\n",
        "        print(\"Es posible enviar a ambos hijos a la misma escuela.\")\n",
        "    else:\n",
        "        print(\"No es posible enviar a ambos hijos a la misma escuela.\")\n",
        "\n",
        "# Ejecutar el algoritmo\n",
        "problema_flujo()"
      ],
      "metadata": {
        "id": "UiCdsgP7r0hD"
      },
      "execution_count": null,
      "outputs": []
    },
    {
      "cell_type": "markdown",
      "source": [
        "Crear un grafo dirigido que representa la red de calles entre la casa del profesor y la escuela.\n",
        "\n",
        "Asignar capacidades a los arcos del grafo para representar cuántas personas pueden caminar en cada dirección.\n",
        "\n",
        "Aplicar el algoritmo de flujo máximo para determinar si es posible enviar a ambos hijos a la misma escuela.\n"
      ],
      "metadata": {
        "id": "gv-50KApr8ti"
      }
    },
    {
      "cell_type": "markdown",
      "source": [
        "El resultado \"No es posible enviar a ambos hijos a la misma escuela\" tiene sentido en el contexto del problema modelado. En este caso, la capacidad de la calle entre \"Esquina1\" y \"Esquina2\" es de 2, lo que significa que, como máximo, dos personas pueden caminar en esa dirección. Dado que hay dos hijos que necesitan caminar desde la casa hasta la escuela, y ambos tienen restricciones sobre las aceras que pueden usar, el flujo máximo necesario es de al menos 2.\n",
        "\n",
        "El algoritmo de flujo máximo devuelve el flujo máximo posible en la red, y si ese flujo máximo es menor que la cantidad de hijos (en este caso, 2), entonces no sería posible enviar a ambos hijos a la misma escuela sin que alguno de ellos incumpla las restricciones."
      ],
      "metadata": {
        "id": "Ns4TK58MsZnU"
      }
    }
  ]
}
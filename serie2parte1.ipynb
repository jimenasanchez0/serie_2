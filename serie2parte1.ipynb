{
  "nbformat": 4,
  "nbformat_minor": 0,
  "metadata": {
    "colab": {
      "provenance": [],
      "authorship_tag": "ABX9TyM6YMnOzkce0/EKyQLc4ioC",
      "include_colab_link": true
    },
    "kernelspec": {
      "name": "python3",
      "display_name": "Python 3"
    },
    "language_info": {
      "name": "python"
    }
  },
  "cells": [
    {
      "cell_type": "markdown",
      "metadata": {
        "id": "view-in-github",
        "colab_type": "text"
      },
      "source": [
        "<a href=\"https://colab.research.google.com/github/jimenasanchez0/serie_2/blob/main/serie2parte1.ipynb\" target=\"_parent\"><img src=\"https://colab.research.google.com/assets/colab-badge.svg\" alt=\"Open In Colab\"/></a>"
      ]
    },
    {
      "cell_type": "markdown",
      "source": [
        "Jimena Monzerrat Sanchez Palos\n",
        "\n",
        "LCD 3er semestre\n",
        "\n",
        "Serie 2 parte 1"
      ],
      "metadata": {
        "id": "YH96_TTabbuI"
      }
    },
    {
      "cell_type": "markdown",
      "source": [
        "**Ejercicio 2.**\n",
        "\n",
        "Sea A[1... n] un arreglo de n números distintos. Si i < j y A[i] > A[j] entonces la pareja (i,j) es una inversión\n",
        "de A."
      ],
      "metadata": {
        "id": "0qBy-Bvwbt3m"
      }
    },
    {
      "cell_type": "code",
      "source": [
        "def contar_inversiones(arr):\n",
        "    if len(arr) <= 1:\n",
        "        return arr, 0\n",
        "\n",
        "    mitad = len(arr) // 2\n",
        "    izquierda, inversiones_izquierda = contar_inversiones(arr[:mitad])\n",
        "    derecha, inversiones_derecha = contar_inversiones(arr[mitad:])\n",
        "    fusion, inversiones_fusion = merge(izquierda, derecha)\n",
        "\n",
        "    inversiones_totales = inversiones_izquierda + inversiones_derecha + inversiones_fusion\n",
        "\n",
        "    return fusion, inversiones_totales\n",
        "\n",
        "def merge(izquierda, derecha):\n",
        "    i = j = inversiones = 0\n",
        "    fusion = []\n",
        "\n",
        "    while i < len(izquierda) and j < len(derecha):\n",
        "        if izquierda[i] <= derecha[j]:\n",
        "            fusion.append(izquierda[i])\n",
        "            i += 1\n",
        "        else:\n",
        "            fusion.append(derecha[j])\n",
        "            inversiones += len(izquierda) - i\n",
        "            j += 1\n",
        "\n",
        "    fusion.extend(izquierda[i:])\n",
        "    fusion.extend(derecha[j:])\n",
        "\n",
        "    return fusion, inversiones\n",
        "\n",
        "# Ejemplo de uso:\n",
        "#arr = [2, 3, 8, 6, 1]\n",
        "arr = [1, 3, 5, 2, 4, 6]\n",
        "resultado, inversiones = contar_inversiones(arr)\n",
        "print(\"Permutación ordenada:\", resultado)\n",
        "print(\"Número de inversiones:\", inversiones)"
      ],
      "metadata": {
        "id": "FSm3ZxTmbvYy",
        "colab": {
          "base_uri": "https://localhost:8080/"
        },
        "outputId": "5251afae-04f9-447b-e9b1-a0670110c330"
      },
      "execution_count": 1,
      "outputs": [
        {
          "output_type": "stream",
          "name": "stdout",
          "text": [
            "Permutación ordenada: [1, 2, 3, 4, 5, 6]\n",
            "Número de inversiones: 3\n"
          ]
        }
      ]
    },
    {
      "cell_type": "markdown",
      "source": [
        "a) Las inversiones son las duplas (2,1) (3,1) (8,6) (8,1) y (6,1) ya que todas estas combinaciones se tiene un mayor valor del lado izquierdo\n",
        "\n",
        "b) Para el punto 2 es el arreglo ordenado de {n, ..., 2, 1} y tiene (n(n-1))/2 ya que:\n",
        "Si hacemos una especia de tabla se pude observar que la cantidad de inversiones es igual (2*1)/2= 1 para el primer caso, (3*2)/2 = 3 y para el caso (4*3)/2 = 6.\n",
        "\n",
        "c) Para el punto 3 tomaremos como base el algoritmo de mergesort, solo que con la siguiente característica: al ser un algoritmo de divide y vencerás, el problema se va dividiendo y se van resolviendo las partes más pequeñas del problema y es donde aquí se aprovechara el algoritmo para ir calculando y regresando también las inversiones:\n",
        "\n",
        "Sea el caso base cuando solo hay un elemento en el array, entonces regresamos el array(arreglo/lista) y el contador de inversiones como 0.\n"
      ],
      "metadata": {
        "id": "Uf2rpWZrtttA"
      }
    },
    {
      "cell_type": "markdown",
      "source": [
        "**Ejercicio 4**\n",
        "\n",
        "Dadas k listas ordenadas con n elementos en total. Diseña un algoritmo de complejidad O(n log k) para\n",
        "obtener la lista ordenada de los n elementos."
      ],
      "metadata": {
        "id": "vzfotrBRcija"
      }
    },
    {
      "cell_type": "markdown",
      "source": [
        "se puede aprovechar que las k listas están ordenadas y podemos extraer el primer elemento de cada una e irlas comparando de 2 en 2 donde el elemento menor ganador se compara con el elemento ganador de otra comparación y así hasta quedar un solo elemento como el ganador de todos, entonces se obtiene el siguiente elemento de esa lista.\n",
        "\n",
        "Una vez que se toma el siguiente elemento del arreglo del cual se tomo el valor como mínimo, ese nuevo valor junto con los otros valores de los otros arreglos se vuelve a calcular nuevamente el árbol, donde el ganador es nuevamente el menor en cada par de comparaciones.\n",
        "Por lo que determinar el elemento menor toma log(k)  por el número de elementos de las listas es n entonces este proceso se realiza en O(n log k).\n",
        "\n"
      ],
      "metadata": {
        "id": "T3lXAYLRuO6R"
      }
    },
    {
      "cell_type": "code",
      "source": [
        "import heapq\n",
        "\n",
        "def merge_k_sorted_lists(lists):\n",
        "    result = []\n",
        "    heap = []\n",
        "\n",
        "    # Inicializar el heap con el primer elemento de cada lista junto con su índice y valor.\n",
        "    for i, lst in enumerate(lists):\n",
        "        if lst:\n",
        "            heapq.heappush(heap, (lst[0], i, 0))\n",
        "\n",
        "    while heap:\n",
        "        val, list_index, element_index = heapq.heappop(heap)\n",
        "\n",
        "        # Agregar el valor al resultado final.\n",
        "        result.append(val)\n",
        "\n",
        "        # Mover al siguiente elemento de la lista actual si hay más elementos.\n",
        "        if element_index + 1 < len(lists[list_index]):\n",
        "            next_element = lists[list_index][element_index + 1]\n",
        "            heapq.heappush(heap, (next_element, list_index, element_index + 1))\n",
        "\n",
        "    return result\n",
        "\n",
        "# Ejemplo de uso:\n",
        "list1 = [34, 147, 718]\n",
        "list2 = [2, 5, 8]\n",
        "list3 = [3, 6, 9]\n",
        "\n",
        "result = merge_k_sorted_lists([list1, [2, 5, 8], [3, 6, 9]])\n",
        "print(\"Lista ordenada de los elementos:\", result)"
      ],
      "metadata": {
        "colab": {
          "base_uri": "https://localhost:8080/"
        },
        "id": "NcvbGm_cxrQm",
        "outputId": "287a6df5-971c-4692-b199-3052395df3c6"
      },
      "execution_count": 1,
      "outputs": [
        {
          "output_type": "stream",
          "name": "stdout",
          "text": [
            "Lista ordenada de los elementos: [2, 3, 5, 6, 8, 9, 34, 147, 718]\n"
          ]
        }
      ]
    },
    {
      "cell_type": "markdown",
      "source": [
        "Este código utiliza un min heap para realizar un enfoque similar al algoritmo de fusión (merge). La idea es mantener un heap de los elementos más pequeños de cada lista y en cada paso, tomar el elemento más pequeño del heap, agregarlo al resultado final y luego insertar el siguiente elemento de la misma lista en el heap.\n",
        "\n",
        "La complejidad de este algoritmo es O(n log k), donde n es el número total de elementos en todas las listas y k es el número de listas. Esto se debe a que cada elemento se inserta y se extrae del heap al menos una vez, y el heap tiene un tamaño máximo de k.\n"
      ],
      "metadata": {
        "id": "2nkAYQxJvnZS"
      }
    },
    {
      "cell_type": "markdown",
      "source": [
        "**Ejercicio 7**\n",
        "\n",
        "Rotar un arreglo significa hacer un corrimiento a la derecha de todos los elementos, excepto el último\n",
        "que pasará a la primera posición del arreglo. Por ejemplo, A = [1, 3, 4, 5, 7, 10, 14, 15, 16, 19, 20, 25] y\n",
        "después de una rotación A = [25, 1, 3, 4, 5,7, 10, 14, 15, 16, 19, 20]. Dado un arreglo ordenado A de n\n",
        "números enteros distintos que ha sido rotado un número desconocido de veces. Diseña un algoritmo O(log n) tiempo que encuentre el k-ésimo elemento del arreglo. Por ejemplo, A [15, 16, 19, 20, 25, 1, 3, 4, 5, 7, 10, 14] y k = 5, la respuesta es 7."
      ],
      "metadata": {
        "id": "rwG7RV6Nvuxb"
      }
    },
    {
      "cell_type": "code",
      "source": [
        "def buscar_kesimo_elemento(arr, k):\n",
        "    inicio, fin = 0, len(arr) - 1\n",
        "\n",
        "    while inicio <= fin:\n",
        "        medio = (inicio + fin) // 2\n",
        "\n",
        "        if arr[medio] == k:\n",
        "            return medio\n",
        "\n",
        "        # Caso 1: La mitad izquierda está ordenada\n",
        "        if arr[inicio] <= arr[medio]:\n",
        "            if arr[inicio] <= k <= arr[medio]:\n",
        "                fin = medio - 1\n",
        "            else:\n",
        "                inicio = medio + 1\n",
        "        # Caso 2: La mitad derecha está ordenada\n",
        "        else:\n",
        "            if arr[medio] <= k <= arr[fin]:\n",
        "                inicio = medio + 1\n",
        "            else:\n",
        "                fin = medio - 1\n",
        "\n",
        "    return -1  # Si no se encuentra el elemento\n",
        "\n",
        "# Ejemplo de uso:\n",
        "arreglo_rotado = [15, 16, 19, 20, 25, 1, 3, 4, 5, 7, 10, 14]\n",
        "#arreglo_rotado = [1, 3, 4, 5, 7, 10, 14, 15, 16, 19, 20, 25]\n",
        "k = 5\n",
        "resultado = buscar_kesimo_elemento(arreglo_rotado, k)\n",
        "\n",
        "if resultado != -1:\n",
        "    print(f\"El {k}-ésimo elemento es: {arreglo_rotado[resultado]}\")\n",
        "else:\n",
        "    print(\"Elemento no encontrado en el arreglo.\")"
      ],
      "metadata": {
        "id": "cfIfkaQ8wLCo"
      },
      "execution_count": null,
      "outputs": []
    },
    {
      "cell_type": "markdown",
      "source": [
        "se puede ver que el determinar el valor k-ésimo consistiría en determinar el punto donde  se cumpla la siguiente propiedad que el elemento A[i] > A[i+1], para esto exploramos el arreglo con búsqueda binaria haciendo esa pregunta que toma (log n preguntas) hasta encontrar esa propiedad. Con este  indice i podemos saber cuantos elementos “se desplazo”  que llamaremos d una vez obtenido ese desplazo d solo queda hacer la pregunta (k+d)mod n que representa al k- ésimo elemento de A."
      ],
      "metadata": {
        "id": "eg62uXXbudDl"
      }
    },
    {
      "cell_type": "markdown",
      "source": [
        "**Ejercicio 8**\n",
        "\n",
        "Sea A un arreglo de n enteros en V = {0, 1,..., n -1} con exactamente un elemento t que aparece dos veces.\n",
        "Esto implica que falta exactamente m € V de A. ¿Cómo calcularía t y m en tiempo lineal y espacio constante?"
      ],
      "metadata": {
        "id": "oZUrQP4iwNqu"
      }
    },
    {
      "cell_type": "code",
      "source": [
        "def encontrar_duplicado_y_faltante(arr):\n",
        "    n = len(arr)\n",
        "\n",
        "    # Encontrar el duplicado\n",
        "    duplicado = -1\n",
        "    for num in arr:\n",
        "        indice_actual = abs(num) - 1\n",
        "        if arr[indice_actual] < 0:\n",
        "            duplicado = abs(num)\n",
        "        else:\n",
        "            arr[indice_actual] = -arr[indice_actual]\n",
        "\n",
        "    # Encontrar el faltante\n",
        "    faltante = -1\n",
        "    for i, num in enumerate(arr):\n",
        "        if num > 0:\n",
        "            faltante = i + 1\n",
        "\n",
        "    return duplicado, faltante\n",
        "\n",
        "# Ejemplo de uso:\n",
        "arreglo = [3, 1, 3, 4, 2, 6,7,5,9]\n",
        "duplicado, faltante = encontrar_duplicado_y_faltante(arreglo)\n",
        "\n",
        "print(f\"El número duplicado es: {duplicado}\")\n",
        "print(f\"El número faltante es: {faltante}\")"
      ],
      "metadata": {
        "colab": {
          "base_uri": "https://localhost:8080/"
        },
        "id": "K7OPiGDdwZiO",
        "outputId": "9ffd0f64-d05b-412e-9cc9-e2984dd390c4"
      },
      "execution_count": 2,
      "outputs": [
        {
          "output_type": "stream",
          "name": "stdout",
          "text": [
            "El número duplicado es: 3\n",
            "El número faltante es: 8\n"
          ]
        }
      ]
    },
    {
      "cell_type": "markdown",
      "source": [
        "Se inicializa una variable duplicado  y otra faltante con el valor -1. Luego, se itera sobre la lista de enteros \"arr\" para encontrar el número duplicado. Para hacer esto, se utiliza el índice actual del número en la lista (restándole 1 para ajustar el índice a partir de 0) y se verifica si el número en esa posición ya ha sido negativo. Si es así, significa que ese número ya ha aparecido antes en la lista y, por lo tanto, es el número duplicado. De lo contrario, se cambia el signo del número en esa posición para indicar que ya ha aparecido.\n",
        "Sse busca el número faltante en la lista. Para hacer esto, se itera sobre la lista de enteros \"arr\" nuevamente y se verifica si el número en la posición actual es positivo. Si es así, significa que el número correspondiente a esa posición no aparece en la lista y, por lo tanto, es el número faltante.\n",
        "Al final se devuelve una tupla con los valores de duplicado y faltante.\n"
      ],
      "metadata": {
        "id": "H70SFn__vDTe"
      }
    },
    {
      "cell_type": "markdown",
      "source": [
        "**Version optimizada**\n",
        "\n",
        "Reducción de variables: He reducido el número de variables utilizadas para mejorar la claridad del código y hacerlo más conciso.\n",
        "\n",
        "Eliminación de declaración innecesaria: No es necesario inicializar las variables n y negativo fuera del bucle.\n",
        "\n",
        " la complejidad temporal y espacial sigue siendo O(n), ya que aún recorremos el arreglo una vez para detectar tanto el duplicado como el faltante. La eficiencia adicional proviene principalmente de la simplificación del código y la eliminación de variables innecesarias. En términos de tiempo y espacio, estas optimizaciones son mínimas,  pero pueden hacer que el código sea más fácil de entender y mantener."
      ],
      "metadata": {
        "id": "Y-omNbFqx4Nz"
      }
    },
    {
      "cell_type": "code",
      "source": [
        "def encontrar_duplicado_y_faltante(arr):\n",
        "    duplicado, faltante = -1, -1\n",
        "\n",
        "    for num in arr:\n",
        "        indice_actual = abs(num) - 1\n",
        "\n",
        "        if arr[indice_actual] < 0:\n",
        "            duplicado = abs(num)\n",
        "        else:\n",
        "            arr[indice_actual] *= -1\n",
        "\n",
        "    for i, num in enumerate(arr):\n",
        "        if num > 0:\n",
        "            faltante = i + 1\n",
        "\n",
        "    return duplicado, faltante\n",
        "\n",
        "# Ejemplo de uso:\n",
        "arreglo = [3, 1, 3, 4, 2, 6,7,5,9]\n",
        "duplicado, faltante = encontrar_duplicado_y_faltante(arreglo)\n",
        "\n",
        "print(f\"El número duplicado es: {duplicado}\")\n",
        "print(f\"El número faltante es: {faltante}\")"
      ],
      "metadata": {
        "id": "UdYnyGauyML8"
      },
      "execution_count": null,
      "outputs": []
    },
    {
      "cell_type": "markdown",
      "source": [
        "**Ejercicio 10**\n",
        "\n",
        "Sea A[1,...,n] un arreglo de números reales. Diseña un algoritmo para realizar cualquier secuencia de las\n",
        "siguientes operaciones:\n",
        "▪ Add(i,y), suma el valor y al i-ésimo número.\n",
        "▪ Partial – sum(i), regresa la suma de los primeros i números, es decir Partial – sum(i) = A[1] + ... +\n",
        "A[i]\n",
        "No hay inserciones ni eliminaciones; el único cambio es a los valores de los números. Cada operación\n",
        "debe tomar O(log n) pasos. Puedes utilizar un arreglo adicional de tamaño n como espacio de trabajo."
      ],
      "metadata": {
        "id": "TAFUGgHJzLcy"
      }
    },
    {
      "cell_type": "code",
      "source": [
        "class BinaryIndexedTree:\n",
        "    def __init__(self, n):\n",
        "        self.n = n\n",
        "        self.bit = [0] * (n + 1)\n",
        "\n",
        "    def add(self, i, y):\n",
        "        i += 1  # Ajuste de índice 0-based a 1-based\n",
        "        while i <= self.n:\n",
        "            self.bit[i] += y\n",
        "            i += i & -i\n",
        "\n",
        "    def partial_sum(self, i):\n",
        "        i += 1  # Ajuste de índice 0-based a 1-based\n",
        "        result = 0\n",
        "        while i > 0:\n",
        "            result += self.bit[i]\n",
        "            i -= i & -i\n",
        "        return result\n",
        "\n",
        "# Ejemplo de uso:\n",
        "n = 10\n",
        "A = [0] * n  # Inicializar el arreglo con ceros\n",
        "bit_tree = BinaryIndexedTree(n)\n",
        "\n",
        "# Realizar operaciones\n",
        "bit_tree.add(2, 5)\n",
        "bit_tree.add(5, 3)\n",
        "bit_tree.add(7, 8)\n",
        "\n",
        "print(\"Partial Sum(3):\", bit_tree.partial_sum(3))\n",
        "print(\"Partial Sum(6):\", bit_tree.partial_sum(6))"
      ],
      "metadata": {
        "colab": {
          "base_uri": "https://localhost:8080/"
        },
        "id": "gJTlG7m8zQxP",
        "outputId": "b4a3f2ec-2c9b-4cc0-c5b0-6898aa04d735"
      },
      "execution_count": 3,
      "outputs": [
        {
          "output_type": "stream",
          "name": "stdout",
          "text": [
            "Partial Sum(3): 5\n",
            "Partial Sum(6): 8\n"
          ]
        }
      ]
    },
    {
      "cell_type": "markdown",
      "source": [
        "Inicialización: Se crea un arreglo bit de tamaño (n + 1) lleno de ceros, donde n es el tamaño del arreglo original, este arreglo bit se utiliza para almacenar las sumas acumulativas.\n",
        "\n",
        "Método add(i, y): Incrementa el valor en la posición i del arreglo original por y. Luego actualiza las sumas acumulativas en el arreglo bit para reflejar el cambio.\n",
        "\n",
        "Método partial_sum(i): se calcula la suma acumulativa de los primeros i + 1 elementos en el arreglo original, utiliza el arreglo bit para realizar este cálculo de manera eficiente."
      ],
      "metadata": {
        "id": "LfaTqOlqwTNd"
      }
    }
  ]
}